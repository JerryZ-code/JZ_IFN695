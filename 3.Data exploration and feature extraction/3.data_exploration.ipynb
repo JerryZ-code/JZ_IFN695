{
 "cells": [
  {
   "cell_type": "code",
   "execution_count": 6,
   "id": "3b427ec9",
   "metadata": {},
   "outputs": [],
   "source": [
    "# importing libraries\n",
    "import pandas as pd\n",
    "import numpy as np\n",
    "import matplotlib.pyplot as plt\n",
    "import os, sys"
   ]
  },
  {
   "cell_type": "code",
   "execution_count": 7,
   "id": "823a0e4d",
   "metadata": {},
   "outputs": [
    {
     "name": "stdout",
     "output_type": "stream",
     "text": [
      "<class 'pandas.core.frame.DataFrame'>\n",
      "RangeIndex: 13156 entries, 0 to 13155\n",
      "Data columns (total 21 columns):\n",
      " #   Column                     Non-Null Count  Dtype  \n",
      "---  ------                     --------------  -----  \n",
      " 0   Region                     13156 non-null  object \n",
      " 1   NSP                        13156 non-null  object \n",
      " 2   Start                      13156 non-null  object \n",
      " 3   Finish                     13156 non-null  object \n",
      " 4   Network Asset              13156 non-null  object \n",
      " 5   Recall_Day_Hours           13156 non-null  float64\n",
      " 6   Recall_Night_Hours         13156 non-null  float64\n",
      " 7   Project Work?              13156 non-null  int64  \n",
      " 8   Unplanned?                 13156 non-null  int64  \n",
      " 9   DNSP Aware?                13156 non-null  int64  \n",
      " 10  Generator Aware?           13156 non-null  int64  \n",
      " 11  Inter-Regional             13156 non-null  int64  \n",
      " 12  Status_Description         13156 non-null  object \n",
      " 13  Status_Code                11583 non-null  object \n",
      " 14  Status_Description_Market  13156 non-null  object \n",
      " 15  Market_Notice_Code         11583 non-null  object \n",
      " 16  Impact_Region              13156 non-null  object \n",
      " 17  Reason                     13156 non-null  object \n",
      " 18  Duration_Hours             13156 non-null  float64\n",
      " 19  Impact                     13156 non-null  object \n",
      " 20  file_name                  13156 non-null  object \n",
      "dtypes: float64(3), int64(5), object(13)\n",
      "memory usage: 2.1+ MB\n"
     ]
    }
   ],
   "source": [
    "# importing data\n",
    "df = pd.read_csv('../2.Downloading data/processed_high_impact_outages.csv')\n",
    "df.info()"
   ]
  }
 ],
 "metadata": {
  "kernelspec": {
   "display_name": "base",
   "language": "python",
   "name": "python3"
  },
  "language_info": {
   "codemirror_mode": {
    "name": "ipython",
    "version": 3
   },
   "file_extension": ".py",
   "mimetype": "text/x-python",
   "name": "python",
   "nbconvert_exporter": "python",
   "pygments_lexer": "ipython3",
   "version": "3.12.7"
  }
 },
 "nbformat": 4,
 "nbformat_minor": 5
}
